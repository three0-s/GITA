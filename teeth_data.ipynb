{
 "cells": [
  {
   "cell_type": "code",
   "execution_count": 1,
   "metadata": {},
   "outputs": [
    {
     "name": "stderr",
     "output_type": "stream",
     "text": [
      "/home/yewon/.local/lib/python3.8/site-packages/tqdm/auto.py:22: TqdmWarning: IProgress not found. Please update jupyter and ipywidgets. See https://ipywidgets.readthedocs.io/en/stable/user_install.html\n",
      "  from .autonotebook import tqdm as notebook_tqdm\n"
     ]
    }
   ],
   "source": [
    "from PIL import Image\n",
    "from IPython.display import display\n",
    "import torch as th\n",
    "\n",
    "def inverse_normalize(img, mean=(0.48145466, 0.4578275, 0.40821073), std=(0.26862954, 0.26130258, 0.27577711)):\n",
    "    \"\"\"\n",
    "    :param img: numpy array. shape (B, C, H, W) or (C, H, W). [-1~1]\n",
    "    :return: numpy array. shape (height, width, channel). [0~1]\n",
    "    \"\"\"\n",
    "    if len(img.shape) == 4:\n",
    "        for i in range(3):\n",
    "            img[:, i,:, :] = ((img[:, i,:,:]) * std[i]) + mean[i]\n",
    "    elif len(img.shape) == 3:\n",
    "        for i in range(3):\n",
    "            img[i,:, :] = ((img[i,:,:]) * std[i]) + mean[i]\n",
    "\n",
    "    return img*255\n",
    "\n",
    "def show_images(batch: th.Tensor):\n",
    "    \"\"\" Display a batch of images inline. \"\"\"\n",
    "    scaled = inverse_normalize(batch, (0.48145466, 0.4578275, 0.40821073), (0.26862954, 0.26130258, 0.27577711)).round().clamp(0,255).to(th.uint8).cpu()\n",
    "    reshaped = scaled.permute(2, 0, 3, 1).reshape([batch.shape[2], -1, 3])\n",
    "    display(Image.fromarray(reshaped.numpy()))\n",
    "\n",
    "def ret_images(batch: th.Tensor):\n",
    "    \"\"\" Display a batch of images inline. \"\"\"\n",
    "    scaled = inverse_normalize(batch, (0.48145466, 0.4578275, 0.40821073), (0.26862954, 0.26130258, 0.27577711)).round().clamp(0,255).to(th.uint8).cpu()\n",
    "    reshaped = scaled.permute(2, 0, 3, 1).reshape([batch.shape[2], -1, 3])\n",
    "    return (Image.fromarray(reshaped.numpy()))"
   ]
  },
  {
   "cell_type": "code",
   "execution_count": 3,
   "metadata": {},
   "outputs": [
    {
     "name": "stderr",
     "output_type": "stream",
     "text": [
      "  0%|          | 0/6435 [00:00<?, ?it/s]"
     ]
    },
    {
     "name": "stdout",
     "output_type": "stream",
     "text": [
      "torch.Size([3, 64, 64]) {'condi_img': tensor([[[-1.4684, -1.7577, -2.2547,  ..., -1.3911, -1.9433, -2.1121],\n",
      "         [-1.8596, -1.5460, -1.7061,  ..., -1.5386, -1.3435, -1.3607],\n",
      "         [-1.9650, -1.6471, -1.3805,  ..., -1.8032, -1.7955, -2.0441],\n",
      "         ...,\n",
      "         [-2.2399, -1.6814, -1.3054,  ..., -1.7932, -1.6803, -1.7091],\n",
      "         [-1.8483, -1.7214, -1.8474,  ..., -1.9287, -1.1017, -1.5753],\n",
      "         [-1.9122, -1.7948, -1.7939,  ..., -2.2140, -1.7715, -1.6615]],\n",
      "\n",
      "        [[-1.8653, -1.2337, -1.5018,  ..., -1.8612, -1.4418, -2.0453],\n",
      "         [-1.1623, -2.2580, -1.7809,  ..., -1.1740, -1.6125, -1.7131],\n",
      "         [-2.2480, -1.3131, -1.3565,  ..., -1.7723, -1.5732, -2.1196],\n",
      "         ...,\n",
      "         [-1.8782, -2.2076, -1.4271,  ..., -1.9822, -1.8147, -1.8711],\n",
      "         [-1.5853, -1.2521, -2.0185,  ..., -2.3017, -1.6467, -2.2153],\n",
      "         [-1.6159, -1.3907, -1.4243,  ..., -1.3342, -1.8283, -1.8059]],\n",
      "\n",
      "        [[-1.4012, -1.7238, -1.5291,  ..., -1.5433, -1.1285, -1.4441],\n",
      "         [-1.5665, -1.5381, -1.2760,  ..., -1.2400, -1.6120, -1.5784],\n",
      "         [-1.4046, -0.7491, -1.4102,  ..., -1.6333, -1.0034, -1.8522],\n",
      "         ...,\n",
      "         [-1.5493, -1.5895, -1.5443,  ..., -1.6181, -1.1208, -1.0578],\n",
      "         [-1.3207, -1.1338, -1.0998,  ..., -1.5289, -1.5612, -0.9924],\n",
      "         [-0.7917, -2.0474, -1.4789,  ..., -1.3443, -1.4427, -1.6800]]]), 'id': '0001_000_intraoral', 'low_res': tensor([[[0.5098, 0.5294, 0.5255,  ..., 0.6078, 0.6000, 0.6000],\n",
      "         [0.5176, 0.5137, 0.5451,  ..., 0.5922, 0.6000, 0.5843],\n",
      "         [0.5137, 0.5059, 0.5098,  ..., 0.6000, 0.6000, 0.5804],\n",
      "         ...,\n",
      "         [0.3451, 0.3451, 0.3804,  ..., 0.5922, 0.5843, 0.6039],\n",
      "         [0.3412, 0.3608, 0.3451,  ..., 0.6157, 0.6118, 0.6196],\n",
      "         [0.3490, 0.3569, 0.3176,  ..., 0.6471, 0.6353, 0.6431]],\n",
      "\n",
      "        [[0.2706, 0.2549, 0.2157,  ..., 0.2000, 0.1529, 0.1529],\n",
      "         [0.2157, 0.2196, 0.2353,  ..., 0.2039, 0.1647, 0.1373],\n",
      "         [0.2196, 0.2118, 0.1882,  ..., 0.2196, 0.1843, 0.1922],\n",
      "         ...,\n",
      "         [0.0941, 0.0941, 0.1333,  ..., 0.2392, 0.2392, 0.2902],\n",
      "         [0.0902, 0.1098, 0.1137,  ..., 0.2627, 0.2627, 0.3059],\n",
      "         [0.0980, 0.1059, 0.0784,  ..., 0.2863, 0.2902, 0.2980]],\n",
      "\n",
      "        [[0.2667, 0.2706, 0.2392,  ..., 0.2588, 0.1922, 0.1922],\n",
      "         [0.2392, 0.2353, 0.2588,  ..., 0.2431, 0.2000, 0.1765],\n",
      "         [0.2431, 0.2275, 0.2196,  ..., 0.2510, 0.2118, 0.2039],\n",
      "         ...,\n",
      "         [0.0941, 0.0941, 0.1412,  ..., 0.2471, 0.2471, 0.2941],\n",
      "         [0.0902, 0.1098, 0.1137,  ..., 0.2706, 0.2706, 0.3020],\n",
      "         [0.1020, 0.1098, 0.0824,  ..., 0.3059, 0.3137, 0.3216]]])}\n"
     ]
    },
    {
     "data": {
      "image/png": "[encoded data removed]",
      "text/plain": [
       "<PIL.Image.Image image mode=RGB size=64x64>"
      ]
     },
     "metadata": {},
     "output_type": "display_data"
    },
    {
     "name": "stderr",
     "output_type": "stream",
     "text": [
      "  0%|          | 0/6435 [00:00<?, ?it/s]\n"
     ]
    }
   ],
   "source": [
    "from gita.data.teeth_img import PairedTeethImageData\n",
    "from torchvision.transforms import ToPILImage\n",
    "import torch\n",
    "import os\n",
    "from tqdm.auto import tqdm\n",
    "data = PairedTeethImageData(img_dir='/home/yewon/GITA/dataset/train',\n",
    "                            istrain=True, \n",
    "                            condi_aug_level=0.3,\n",
    "                            super_res=True,\n",
    "                            low_res_image_dir='/home/yewon/GITA/low_res_dataset/train',\n",
    "                            low_res_size=64,\n",
    "                            )\n"
   ]
  },
  {
   "cell_type": "code",
   "execution_count": null,
   "metadata": {},
   "outputs": [],
   "source": [
    "for batch, cond in tqdm(data):\n",
    "    if cond['low_res']== None:\n",
    "        print(\"좆댓다\")\n",
    "        break"
   ]
  }
 ],
 "metadata": {
  "kernelspec": {
   "display_name": "Python 3.8.10 64-bit",
   "language": "python",
   "name": "python3"
  },
  "language_info": {
   "codemirror_mode": {
    "name": "ipython",
    "version": 3
   },
   "file_extension": ".py",
   "mimetype": "text/x-python",
   "name": "python",
   "nbconvert_exporter": "python",
   "pygments_lexer": "ipython3",
   "version": "3.8.10"
  },
  "orig_nbformat": 4,
  "vscode": {
   "interpreter": {
    "hash": "31f2aee4e71d21fbe5cf8b01ff0e069b9275f58929596ceb00d14d90e3e16cd6"
   }
  }
 },
 "nbformat": 4,
 "nbformat_minor": 2
}
