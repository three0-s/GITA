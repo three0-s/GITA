{
 "cells": [
  {
   "cell_type": "code",
   "execution_count": 7,
   "metadata": {},
   "outputs": [],
   "source": [
    "from PIL import Image\n",
    "from IPython.display import display\n",
    "import torch as th\n",
    "\n",
    "def inverse_normalize(img, mean=(0.48145466, 0.4578275, 0.40821073), std=(0.26862954, 0.26130258, 0.27577711)):\n",
    "    \"\"\"\n",
    "    :param img: numpy array. shape (B, C, H, W) or (C, H, W). [-1~1]\n",
    "    :return: numpy array. shape (height, width, channel). [0~1]\n",
    "    \"\"\"\n",
    "    if len(img.shape) == 4:\n",
    "        for i in range(3):\n",
    "            img[:, i,:, :] = ((img[:, i,:,:]) * std[i]) + mean[i]\n",
    "    elif len(img.shape) == 3:\n",
    "        for i in range(3):\n",
    "            img[i,:, :] = ((img[i,:,:]) * std[i]) + mean[i]\n",
    "\n",
    "    return img*255\n",
    "\n",
    "def show_images(batch: th.Tensor):\n",
    "    \"\"\" Display a batch of images inline. \"\"\"\n",
    "    scaled = inverse_normalize(batch, (0.48145466, 0.4578275, 0.40821073), (0.26862954, 0.26130258, 0.27577711)).round().clamp(0,255).to(th.uint8).cpu()\n",
    "    reshaped = scaled.permute(2, 0, 3, 1).reshape([batch.shape[2], -1, 3])\n",
    "    display(Image.fromarray(reshaped.numpy()))\n",
    "\n",
    "def ret_images(batch: th.Tensor):\n",
    "    \"\"\" Display a batch of images inline. \"\"\"\n",
    "    scaled = inverse_normalize(batch, (0.48145466, 0.4578275, 0.40821073), (0.26862954, 0.26130258, 0.27577711)).round().clamp(0,255).to(th.uint8).cpu()\n",
    "    reshaped = scaled.permute(2, 0, 3, 1).reshape([batch.shape[2], -1, 3])\n",
    "    return (Image.fromarray(reshaped.numpy()))"
   ]
  },
  {
   "cell_type": "code",
   "execution_count": 9,
   "metadata": {},
   "outputs": [],
   "source": [
    "from gita.data.teeth_img import PairedTeethImageData\n",
    "from torchvision.transforms import ToPILImage\n",
    "import torch\n",
    "import os\n",
    "from tqdm.auto import tqdm\n",
    "data = PairedTeethImageData(img_dir='/Users/yewon/Library/CloudStorage/OneDrive-연세대학교(YonseiUniversity)/예원/Projects/FTP Translation/dataset/val',\n",
    "                            istrain=True, \n",
    "                            condi_aug_level=0.3,\n",
    "                            super_res=False,\n",
    "                            low_res_size=64,\n",
    "                            )\n"
   ]
  },
  {
   "cell_type": "code",
   "execution_count": 24,
   "metadata": {},
   "outputs": [
    {
     "name": "stderr",
     "output_type": "stream",
     "text": [
      "0it [00:00, ?it/s]"
     ]
    },
    {
     "data": {
      "image/png": "[encoded data removed]",
      "text/plain": [
       "<PIL.Image.Image image mode=RGB size=64x64>"
      ]
     },
     "metadata": {},
     "output_type": "display_data"
    },
    {
     "name": "stderr",
     "output_type": "stream",
     "text": [
      "1it [00:00,  3.14it/s]\n"
     ]
    }
   ],
   "source": [
    "for i, (batch, cond) in tqdm(enumerate(data)):\n",
    "    if i >= 1:\n",
    "        break\n",
    "    show_images(batch[None,...])"
   ]
  }
 ],
 "metadata": {
  "kernelspec": {
   "display_name": "Python 3.9.13 ('diffusion')",
   "language": "python",
   "name": "python3"
  },
  "language_info": {
   "codemirror_mode": {
    "name": "ipython",
    "version": 3
   },
   "file_extension": ".py",
   "mimetype": "text/x-python",
   "name": "python",
   "nbconvert_exporter": "python",
   "pygments_lexer": "ipython3",
   "version": "3.9.13"
  },
  "orig_nbformat": 4,
  "vscode": {
   "interpreter": {
    "hash": "123cebfa8eeda1671b5aee0aee9e1d9089587bf59df40bc978256be7a776d99a"
   }
  }
 },
 "nbformat": 4,
 "nbformat_minor": 2
}
